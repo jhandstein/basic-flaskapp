{
 "cells": [
  {
   "cell_type": "code",
   "execution_count": 1,
   "metadata": {},
   "outputs": [],
   "source": [
    "import os"
   ]
  },
  {
   "cell_type": "code",
   "execution_count": 2,
   "metadata": {},
   "outputs": [
    {
     "name": "stdout",
     "output_type": "stream",
     "text": [
      "Environment variable TEST not found\n"
     ]
    }
   ],
   "source": [
    "envs = [\"AZURE_LANGUAGE_ENDPOINT\", \"AZURE_LANGUAGE_KEY\", \"TEST\"] \n",
    "\n",
    "for env in envs:\n",
    "    if env not in os.environ:\n",
    "        print(f\"Environment variable {env} not found\")\t\n",
    "    "
   ]
  },
  {
   "cell_type": "code",
   "execution_count": 3,
   "metadata": {},
   "outputs": [
    {
     "data": {
      "text/plain": [
       "'2023_CHBECK'"
      ]
     },
     "execution_count": 3,
     "metadata": {},
     "output_type": "execute_result"
    }
   ],
   "source": [
    "from pathlib import Path\n",
    "\n",
    "# move working directory to the parent directory of the current file\n",
    "os.chdir('..')\n",
    "\n",
    "Path().resolve().name"
   ]
  },
  {
   "cell_type": "code",
   "execution_count": 4,
   "metadata": {},
   "outputs": [
    {
     "ename": "ValueError",
     "evalue": "Environment variable TEST not found. Please set it and try again.",
     "output_type": "error",
     "traceback": [
      "\u001b[1;31m---------------------------------------------------------------------------\u001b[0m",
      "\u001b[1;31mValueError\u001b[0m                                Traceback (most recent call last)",
      "Cell \u001b[1;32mIn[4], line 3\u001b[0m\n\u001b[0;32m      1\u001b[0m \u001b[39mfrom\u001b[39;00m \u001b[39mFlaskDemo\u001b[39;00m\u001b[39m.\u001b[39;00m\u001b[39mcall_azure_endpoint\u001b[39;00m \u001b[39mimport\u001b[39;00m check_env_vars\n\u001b[1;32m----> 3\u001b[0m check_env_vars([\u001b[39m\"\u001b[39;49m\u001b[39mTEST\u001b[39;49m\u001b[39m\"\u001b[39;49m])\n",
      "File \u001b[1;32mc:\\Users\\jhandstein\\Documents\\Projects\\2023_CHBECK\\FlaskDemo\\call_azure_endpoint.py:15\u001b[0m, in \u001b[0;36mcheck_env_vars\u001b[1;34m(project_vars)\u001b[0m\n\u001b[0;32m     13\u001b[0m \u001b[39mfor\u001b[39;00m var \u001b[39min\u001b[39;00m var_names:\n\u001b[0;32m     14\u001b[0m     \u001b[39mif\u001b[39;00m var \u001b[39mnot\u001b[39;00m \u001b[39min\u001b[39;00m os\u001b[39m.\u001b[39menviron:\n\u001b[1;32m---> 15\u001b[0m         \u001b[39mraise\u001b[39;00m \u001b[39mValueError\u001b[39;00m(\u001b[39mf\u001b[39m\u001b[39m\"\u001b[39m\u001b[39mEnvironment variable \u001b[39m\u001b[39m{\u001b[39;00mvar\u001b[39m}\u001b[39;00m\u001b[39m not found. Please set it and try again.\u001b[39m\u001b[39m\"\u001b[39m)\n",
      "\u001b[1;31mValueError\u001b[0m: Environment variable TEST not found. Please set it and try again."
     ]
    }
   ],
   "source": [
    "from FlaskDemo.call_azure_endpoint import check_env_vars\n",
    "\n",
    "check_env_vars([\"TEST\"])"
   ]
  }
 ],
 "metadata": {
  "kernelspec": {
   "display_name": ".venv",
   "language": "python",
   "name": "python3"
  },
  "language_info": {
   "codemirror_mode": {
    "name": "ipython",
    "version": 3
   },
   "file_extension": ".py",
   "mimetype": "text/x-python",
   "name": "python",
   "nbconvert_exporter": "python",
   "pygments_lexer": "ipython3",
   "version": "3.10.8"
  },
  "orig_nbformat": 4,
  "vscode": {
   "interpreter": {
    "hash": "7ef0af67090f21247b236acb29a5de81f07bd24ff3570cbc2da0ef373c2201c9"
   }
  }
 },
 "nbformat": 4,
 "nbformat_minor": 2
}
