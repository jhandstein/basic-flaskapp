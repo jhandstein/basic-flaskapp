{
 "cells": [
  {
   "cell_type": "code",
   "execution_count": null,
   "metadata": {},
   "outputs": [],
   "source": [
    "from datetime import datetime\n",
    "from flask import Flask\n",
    "from flask_sqlalchemy import SQLAlchemy"
   ]
  },
  {
   "cell_type": "code",
   "execution_count": null,
   "metadata": {},
   "outputs": [],
   "source": [
    "app = Flask(__name__)\n",
    "app.config['SQLALCHEMY_DATABASE_URI'] = 'mysql:///alchemy-test.db'\n",
    "app.config['SQLALCHEMY_TRACK_MODIFICATIONS'] = False"
   ]
  },
  {
   "cell_type": "code",
   "execution_count": null,
   "metadata": {},
   "outputs": [],
   "source": [
    "db = SQLAlchemy(app)"
   ]
  },
  {
   "cell_type": "code",
   "execution_count": null,
   "metadata": {},
   "outputs": [],
   "source": [
    "class OpenAIRequest(db.Model):\n",
    "    id = db.Column(db.Integer, primary_key=True)\n",
    "    type = db.Column(db.String(20), nullable=False)\n",
    "    text = db.Column(db.String(200), nullable=False)\n",
    "    timestamp = db.Column(db.DateTime, nullable=False, default=datetime.utcnow)\n",
    "\n",
    "    def __init__(self, id, type_, text, timestamp) -> None:\n",
    "        super().__init__()\n",
    "        self.id = id\n",
    "        self.type = type_\n",
    "        self.text = text\n",
    "        self.timestamp = timestamp\n",
    "\n",
    "    def __repr__(self):\n",
    "        return f'Request {self.id}'"
   ]
  }
 ],
 "metadata": {
  "kernelspec": {
   "display_name": ".venv",
   "language": "python",
   "name": "python3"
  },
  "language_info": {
   "name": "python",
   "version": "3.10.8"
  },
  "orig_nbformat": 4,
  "vscode": {
   "interpreter": {
    "hash": "7ef0af67090f21247b236acb29a5de81f07bd24ff3570cbc2da0ef373c2201c9"
   }
  }
 },
 "nbformat": 4,
 "nbformat_minor": 2
}
